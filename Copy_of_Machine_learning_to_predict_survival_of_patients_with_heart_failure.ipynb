{
  "nbformat": 4,
  "nbformat_minor": 0,
  "metadata": {
    "colab": {
      "name": "Copy of Machine learning to predict survival of patients with heart failure.ipynb",
      "provenance": [],
      "collapsed_sections": [],
      "toc_visible": true,
      "include_colab_link": true
    },
    "kernelspec": {
      "name": "python3",
      "display_name": "Python 3"
    },
    "language_info": {
      "name": "python"
    }
  },
  "cells": [
    {
      "cell_type": "markdown",
      "metadata": {
        "id": "view-in-github",
        "colab_type": "text"
      },
      "source": [
        "<a href=\"https://colab.research.google.com/github/liskibruh/EDA-on-Average-Temperatures-in-Cities-of-Pakistan/blob/main/Copy_of_Machine_learning_to_predict_survival_of_patients_with_heart_failure.ipynb\" target=\"_parent\"><img src=\"https://colab.research.google.com/assets/colab-badge.svg\" alt=\"Open In Colab\"/></a>"
      ]
    },
    {
      "cell_type": "markdown",
      "source": [
        "# DATA SET DETAILS\n",
        "Source:\n",
        "\n",
        "Provide the names, email addresses, institutions, and other contact information of the donors and creators of the data set.The original dataset version was collected by Tanvir Ahmad, Assia Munir, Sajjad Haider Bhatti, Muhammad Aftab, and Muhammad Ali Raza (Government College University, Faisalabad, Pakistan) and made available by them on FigShare under the Attribution 4.0 International (CC BY 4.0: freedom to share and adapt the material) copyright in July 2017.\n",
        "\n",
        "The current version of the dataset was elaborated by Davide Chicco (Krembil Research Institute, Toronto, Canada) and donated to the University of California Irvine Machine Learning Repository under the same Attribution 4.0 International (CC BY 4.0) copyright in January 2020. Davide Chicco can be reached at <davidechicco '@' davidechicco.it>\n",
        "\n",
        "Data Set Information:\n",
        "\n",
        "A detailed description of the dataset can be found in the Dataset section of the following paper:\n",
        "\n",
        "Davide Chicco, Giuseppe Jurman: \"Machine learning can predict survival of patients with heart failure from serum creatinine and ejection fraction alone\". BMC Medical Informatics and Decision Making 20, 16 (2020). \n",
        "\n",
        "PAPER LINk: https://bmcmedinformdecismak.biomedcentral.com/articles/10.1186/s12911-020-1023-5#Tab8\n",
        "\n"
      ],
      "metadata": {
        "id": "wYK2EMxIqg5k"
      }
    },
    {
      "cell_type": "code",
      "execution_count": null,
      "metadata": {
        "id": "oQ-JOMPIl5Y_"
      },
      "outputs": [],
      "source": [
        "%matplotlib inline\n",
        "import pandas as pd\n",
        "import numpy as np\n",
        "import matplotlib.pyplot as plt\n",
        "import seaborn as sns"
      ]
    },
    {
      "cell_type": "code",
      "source": [
        "heart_failure = pd.read_csv('/content/sample_data/S1Data.csv')\n",
        "print(heart_failure.columns)"
      ],
      "metadata": {
        "colab": {
          "base_uri": "https://localhost:8080/"
        },
        "id": "Nkt91VjDmQR-",
        "outputId": "7854a497-868f-49e9-ae6c-c248d7c115af"
      },
      "execution_count": null,
      "outputs": [
        {
          "output_type": "stream",
          "name": "stdout",
          "text": [
            "Index(['TIME', 'Event', 'Gender', 'Smoking', 'Diabetes', 'BP', 'Anaemia',\n",
            "       'Age', 'Ejection.Fraction', 'Sodium', 'Creatinine', 'Pletelets', 'CPK'],\n",
            "      dtype='object')\n"
          ]
        }
      ]
    },
    {
      "cell_type": "code",
      "source": [
        "heart_failure.head()"
      ],
      "metadata": {
        "colab": {
          "base_uri": "https://localhost:8080/",
          "height": 226
        },
        "id": "izyo5cePmjDZ",
        "outputId": "ed538926-4c37-4cd6-8d11-fa6db10396da"
      },
      "execution_count": null,
      "outputs": [
        {
          "output_type": "execute_result",
          "data": {
            "text/html": [
              "<div>\n",
              "<style scoped>\n",
              "    .dataframe tbody tr th:only-of-type {\n",
              "        vertical-align: middle;\n",
              "    }\n",
              "\n",
              "    .dataframe tbody tr th {\n",
              "        vertical-align: top;\n",
              "    }\n",
              "\n",
              "    .dataframe thead th {\n",
              "        text-align: right;\n",
              "    }\n",
              "</style>\n",
              "<table border=\"1\" class=\"dataframe\">\n",
              "  <thead>\n",
              "    <tr style=\"text-align: right;\">\n",
              "      <th></th>\n",
              "      <th>TIME</th>\n",
              "      <th>Event</th>\n",
              "      <th>Gender</th>\n",
              "      <th>Smoking</th>\n",
              "      <th>Diabetes</th>\n",
              "      <th>BP</th>\n",
              "      <th>Anaemia</th>\n",
              "      <th>Age</th>\n",
              "      <th>Ejection.Fraction</th>\n",
              "      <th>Sodium</th>\n",
              "      <th>Creatinine</th>\n",
              "      <th>Pletelets</th>\n",
              "      <th>CPK</th>\n",
              "    </tr>\n",
              "  </thead>\n",
              "  <tbody>\n",
              "    <tr>\n",
              "      <th>0</th>\n",
              "      <td>97</td>\n",
              "      <td>0</td>\n",
              "      <td>0</td>\n",
              "      <td>0</td>\n",
              "      <td>0</td>\n",
              "      <td>0</td>\n",
              "      <td>1</td>\n",
              "      <td>43.0</td>\n",
              "      <td>50</td>\n",
              "      <td>135</td>\n",
              "      <td>1.30</td>\n",
              "      <td>237000.00</td>\n",
              "      <td>358</td>\n",
              "    </tr>\n",
              "    <tr>\n",
              "      <th>1</th>\n",
              "      <td>180</td>\n",
              "      <td>0</td>\n",
              "      <td>1</td>\n",
              "      <td>1</td>\n",
              "      <td>1</td>\n",
              "      <td>0</td>\n",
              "      <td>1</td>\n",
              "      <td>73.0</td>\n",
              "      <td>30</td>\n",
              "      <td>142</td>\n",
              "      <td>1.18</td>\n",
              "      <td>160000.00</td>\n",
              "      <td>231</td>\n",
              "    </tr>\n",
              "    <tr>\n",
              "      <th>2</th>\n",
              "      <td>31</td>\n",
              "      <td>1</td>\n",
              "      <td>1</td>\n",
              "      <td>1</td>\n",
              "      <td>0</td>\n",
              "      <td>1</td>\n",
              "      <td>0</td>\n",
              "      <td>70.0</td>\n",
              "      <td>20</td>\n",
              "      <td>134</td>\n",
              "      <td>1.83</td>\n",
              "      <td>263358.03</td>\n",
              "      <td>582</td>\n",
              "    </tr>\n",
              "    <tr>\n",
              "      <th>3</th>\n",
              "      <td>87</td>\n",
              "      <td>0</td>\n",
              "      <td>1</td>\n",
              "      <td>0</td>\n",
              "      <td>0</td>\n",
              "      <td>0</td>\n",
              "      <td>1</td>\n",
              "      <td>65.0</td>\n",
              "      <td>25</td>\n",
              "      <td>141</td>\n",
              "      <td>1.10</td>\n",
              "      <td>298000.00</td>\n",
              "      <td>305</td>\n",
              "    </tr>\n",
              "    <tr>\n",
              "      <th>4</th>\n",
              "      <td>113</td>\n",
              "      <td>0</td>\n",
              "      <td>1</td>\n",
              "      <td>0</td>\n",
              "      <td>0</td>\n",
              "      <td>0</td>\n",
              "      <td>0</td>\n",
              "      <td>64.0</td>\n",
              "      <td>60</td>\n",
              "      <td>137</td>\n",
              "      <td>1.00</td>\n",
              "      <td>242000.00</td>\n",
              "      <td>1610</td>\n",
              "    </tr>\n",
              "  </tbody>\n",
              "</table>\n",
              "</div>"
            ],
            "text/plain": [
              "   TIME  Event  Gender  Smoking  ...  Sodium  Creatinine  Pletelets   CPK\n",
              "0    97      0       0        0  ...     135        1.30  237000.00   358\n",
              "1   180      0       1        1  ...     142        1.18  160000.00   231\n",
              "2    31      1       1        1  ...     134        1.83  263358.03   582\n",
              "3    87      0       1        0  ...     141        1.10  298000.00   305\n",
              "4   113      0       1        0  ...     137        1.00  242000.00  1610\n",
              "\n",
              "[5 rows x 13 columns]"
            ]
          },
          "metadata": {},
          "execution_count": 41
        }
      ]
    },
    {
      "cell_type": "code",
      "source": [
        "heart_failure.tail()"
      ],
      "metadata": {
        "colab": {
          "base_uri": "https://localhost:8080/",
          "height": 226
        },
        "id": "BdS5w5_9mo5f",
        "outputId": "821f9d2c-5ff5-4576-a97c-f39af0fa8f58"
      },
      "execution_count": null,
      "outputs": [
        {
          "output_type": "execute_result",
          "data": {
            "text/html": [
              "<div>\n",
              "<style scoped>\n",
              "    .dataframe tbody tr th:only-of-type {\n",
              "        vertical-align: middle;\n",
              "    }\n",
              "\n",
              "    .dataframe tbody tr th {\n",
              "        vertical-align: top;\n",
              "    }\n",
              "\n",
              "    .dataframe thead th {\n",
              "        text-align: right;\n",
              "    }\n",
              "</style>\n",
              "<table border=\"1\" class=\"dataframe\">\n",
              "  <thead>\n",
              "    <tr style=\"text-align: right;\">\n",
              "      <th></th>\n",
              "      <th>TIME</th>\n",
              "      <th>Event</th>\n",
              "      <th>Gender</th>\n",
              "      <th>Smoking</th>\n",
              "      <th>Diabetes</th>\n",
              "      <th>BP</th>\n",
              "      <th>Anaemia</th>\n",
              "      <th>Age</th>\n",
              "      <th>Ejection.Fraction</th>\n",
              "      <th>Sodium</th>\n",
              "      <th>Creatinine</th>\n",
              "      <th>Pletelets</th>\n",
              "      <th>CPK</th>\n",
              "    </tr>\n",
              "  </thead>\n",
              "  <tbody>\n",
              "    <tr>\n",
              "      <th>294</th>\n",
              "      <td>250</td>\n",
              "      <td>0</td>\n",
              "      <td>0</td>\n",
              "      <td>0</td>\n",
              "      <td>1</td>\n",
              "      <td>0</td>\n",
              "      <td>0</td>\n",
              "      <td>45.0</td>\n",
              "      <td>55</td>\n",
              "      <td>132</td>\n",
              "      <td>1.0</td>\n",
              "      <td>543000.0</td>\n",
              "      <td>582</td>\n",
              "    </tr>\n",
              "    <tr>\n",
              "      <th>295</th>\n",
              "      <td>244</td>\n",
              "      <td>0</td>\n",
              "      <td>0</td>\n",
              "      <td>0</td>\n",
              "      <td>1</td>\n",
              "      <td>0</td>\n",
              "      <td>0</td>\n",
              "      <td>51.0</td>\n",
              "      <td>40</td>\n",
              "      <td>134</td>\n",
              "      <td>0.9</td>\n",
              "      <td>221000.0</td>\n",
              "      <td>582</td>\n",
              "    </tr>\n",
              "    <tr>\n",
              "      <th>296</th>\n",
              "      <td>14</td>\n",
              "      <td>1</td>\n",
              "      <td>1</td>\n",
              "      <td>0</td>\n",
              "      <td>0</td>\n",
              "      <td>0</td>\n",
              "      <td>0</td>\n",
              "      <td>45.0</td>\n",
              "      <td>14</td>\n",
              "      <td>127</td>\n",
              "      <td>0.8</td>\n",
              "      <td>166000.0</td>\n",
              "      <td>582</td>\n",
              "    </tr>\n",
              "    <tr>\n",
              "      <th>297</th>\n",
              "      <td>80</td>\n",
              "      <td>0</td>\n",
              "      <td>1</td>\n",
              "      <td>0</td>\n",
              "      <td>1</td>\n",
              "      <td>0</td>\n",
              "      <td>0</td>\n",
              "      <td>60.0</td>\n",
              "      <td>45</td>\n",
              "      <td>133</td>\n",
              "      <td>1.0</td>\n",
              "      <td>297000.0</td>\n",
              "      <td>897</td>\n",
              "    </tr>\n",
              "    <tr>\n",
              "      <th>298</th>\n",
              "      <td>16</td>\n",
              "      <td>0</td>\n",
              "      <td>0</td>\n",
              "      <td>0</td>\n",
              "      <td>0</td>\n",
              "      <td>1</td>\n",
              "      <td>1</td>\n",
              "      <td>65.0</td>\n",
              "      <td>25</td>\n",
              "      <td>137</td>\n",
              "      <td>1.3</td>\n",
              "      <td>276000.0</td>\n",
              "      <td>52</td>\n",
              "    </tr>\n",
              "  </tbody>\n",
              "</table>\n",
              "</div>"
            ],
            "text/plain": [
              "     TIME  Event  Gender  Smoking  ...  Sodium  Creatinine  Pletelets  CPK\n",
              "294   250      0       0        0  ...     132         1.0   543000.0  582\n",
              "295   244      0       0        0  ...     134         0.9   221000.0  582\n",
              "296    14      1       1        0  ...     127         0.8   166000.0  582\n",
              "297    80      0       1        0  ...     133         1.0   297000.0  897\n",
              "298    16      0       0        0  ...     137         1.3   276000.0   52\n",
              "\n",
              "[5 rows x 13 columns]"
            ]
          },
          "metadata": {},
          "execution_count": 42
        }
      ]
    },
    {
      "cell_type": "code",
      "source": [
        "print(\"heart failure data set dimensions : {}\".format(heart_failure.shape))"
      ],
      "metadata": {
        "colab": {
          "base_uri": "https://localhost:8080/"
        },
        "id": "UOgixsQUmvb9",
        "outputId": "d98126ec-75db-47cb-b4cb-eb43a812719c"
      },
      "execution_count": null,
      "outputs": [
        {
          "output_type": "stream",
          "name": "stdout",
          "text": [
            "heart failure data set dimensions : (299, 13)\n"
          ]
        }
      ]
    },
    {
      "cell_type": "code",
      "source": [
        "heart_failure.groupby('Event').size()"
      ],
      "metadata": {
        "colab": {
          "base_uri": "https://localhost:8080/"
        },
        "id": "zabD0knKm5zy",
        "outputId": "79badbcf-271e-4665-a710-08f11b1e49e8"
      },
      "execution_count": null,
      "outputs": [
        {
          "output_type": "execute_result",
          "data": {
            "text/plain": [
              "Event\n",
              "0    203\n",
              "1     96\n",
              "dtype: int64"
            ]
          },
          "metadata": {},
          "execution_count": 44
        }
      ]
    },
    {
      "cell_type": "code",
      "source": [
        "heart_failure.hist(figsize=(9, 9))"
      ],
      "metadata": {
        "colab": {
          "base_uri": "https://localhost:8080/",
          "height": 848
        },
        "id": "CN9k713nm_WG",
        "outputId": "fab40104-1e41-4636-dffc-f172f7372d5d"
      },
      "execution_count": null,
      "outputs": [
        {
          "output_type": "execute_result",
          "data": {
            "text/plain": [
              "array([[<matplotlib.axes._subplots.AxesSubplot object at 0x7f5b24d50850>,\n",
              "        <matplotlib.axes._subplots.AxesSubplot object at 0x7f5b24d04790>,\n",
              "        <matplotlib.axes._subplots.AxesSubplot object at 0x7f5b24cb8d90>,\n",
              "        <matplotlib.axes._subplots.AxesSubplot object at 0x7f5b24c7b3d0>],\n",
              "       [<matplotlib.axes._subplots.AxesSubplot object at 0x7f5b24cb19d0>,\n",
              "        <matplotlib.axes._subplots.AxesSubplot object at 0x7f5b24c5cb10>,\n",
              "        <matplotlib.axes._subplots.AxesSubplot object at 0x7f5b24c29610>,\n",
              "        <matplotlib.axes._subplots.AxesSubplot object at 0x7f5b24be0b50>],\n",
              "       [<matplotlib.axes._subplots.AxesSubplot object at 0x7f5b24be0b90>,\n",
              "        <matplotlib.axes._subplots.AxesSubplot object at 0x7f5b24ba42d0>,\n",
              "        <matplotlib.axes._subplots.AxesSubplot object at 0x7f5b24b0ddd0>,\n",
              "        <matplotlib.axes._subplots.AxesSubplot object at 0x7f5b24ad1410>],\n",
              "       [<matplotlib.axes._subplots.AxesSubplot object at 0x7f5b24a88a10>,\n",
              "        <matplotlib.axes._subplots.AxesSubplot object at 0x7f5b24a3dfd0>,\n",
              "        <matplotlib.axes._subplots.AxesSubplot object at 0x7f5b249ff5d0>,\n",
              "        <matplotlib.axes._subplots.AxesSubplot object at 0x7f5b249b7bd0>]],\n",
              "      dtype=object)"
            ]
          },
          "metadata": {},
          "execution_count": 45
        },
        {
          "output_type": "display_data",
          "data": {
            "image/png": "[encoded data removed]",
            "text/plain": [
              "<Figure size 648x648 with 16 Axes>"
            ]
          },
          "metadata": {
            "needs_background": "light"
          }
        }
      ]
    },
    {
      "cell_type": "markdown",
      "source": [
        ""
      ],
      "metadata": {
        "id": "m5_44x6CngrU"
      }
    },
    {
      "cell_type": "code",
      "source": [
        "heart_failure.isnull().sum()"
      ],
      "metadata": {
        "colab": {
          "base_uri": "https://localhost:8080/"
        },
        "id": "SYBaNeFOnLpX",
        "outputId": "68f34fe1-4651-41de-8b9d-f6dc74859214"
      },
      "execution_count": null,
      "outputs": [
        {
          "output_type": "execute_result",
          "data": {
            "text/plain": [
              "TIME                 0\n",
              "Event                0\n",
              "Gender               0\n",
              "Smoking              0\n",
              "Diabetes             0\n",
              "BP                   0\n",
              "Anaemia              0\n",
              "Age                  0\n",
              "Ejection.Fraction    0\n",
              "Sodium               0\n",
              "Creatinine           0\n",
              "Pletelets            0\n",
              "CPK                  0\n",
              "dtype: int64"
            ]
          },
          "metadata": {},
          "execution_count": 46
        }
      ]
    },
    {
      "cell_type": "code",
      "source": [
        "heart_failure.isna().sum()"
      ],
      "metadata": {
        "colab": {
          "base_uri": "https://localhost:8080/"
        },
        "id": "oMcnnhfQnf63",
        "outputId": "f05685e2-f3ed-43a8-ef01-2eaa850ee4cc"
      },
      "execution_count": null,
      "outputs": [
        {
          "output_type": "execute_result",
          "data": {
            "text/plain": [
              "TIME                 0\n",
              "Event                0\n",
              "Gender               0\n",
              "Smoking              0\n",
              "Diabetes             0\n",
              "BP                   0\n",
              "Anaemia              0\n",
              "Age                  0\n",
              "Ejection.Fraction    0\n",
              "Sodium               0\n",
              "Creatinine           0\n",
              "Pletelets            0\n",
              "CPK                  0\n",
              "dtype: int64"
            ]
          },
          "metadata": {},
          "execution_count": 47
        }
      ]
    },
    {
      "cell_type": "code",
      "source": [
        "X = heart_failure.iloc[:,1:12]\n"
      ],
      "metadata": {
        "id": "8vdiM8vVnzjH"
      },
      "execution_count": null,
      "outputs": []
    },
    {
      "cell_type": "code",
      "source": [
        "y = heart_failure.Event\n",
        "\n"
      ],
      "metadata": {
        "id": "FLwCcqIJnllm"
      },
      "execution_count": null,
      "outputs": []
    },
    {
      "cell_type": "code",
      "source": [
        "from sklearn.neighbors import KNeighborsClassifier\n",
        "from sklearn.svm import SVC\n",
        "from sklearn.linear_model import LogisticRegression\n",
        "from sklearn.tree import DecisionTreeClassifier\n",
        "from sklearn.naive_bayes import GaussianNB\n",
        "from sklearn.ensemble import RandomForestClassifier\n",
        "from sklearn.ensemble import GradientBoostingClassifier\n",
        "\n",
        "from sklearn.model_selection import train_test_split\n",
        "from sklearn.model_selection import cross_val_score\n",
        "from sklearn.model_selection import StratifiedKFold\n",
        "from sklearn.metrics import accuracy_score"
      ],
      "metadata": {
        "id": "PTsoY7u9o4ca"
      },
      "execution_count": null,
      "outputs": []
    },
    {
      "cell_type": "code",
      "source": [
        "models = []\n",
        "\n",
        "models.append(('KNN', KNeighborsClassifier()))\n",
        "models.append(('SVC', SVC(gamma='scale')))\n",
        "models.append(('LR', LogisticRegression(solver='lbfgs', max_iter=4000)))\n",
        "models.append(('DT', DecisionTreeClassifier()))\n",
        "models.append(('GNB', GaussianNB()))\n",
        "models.append(('RF', RandomForestClassifier(n_estimators=100)))\n",
        "models.append(('GB', GradientBoostingClassifier()))"
      ],
      "metadata": {
        "id": "Ney3ADsto9Vx"
      },
      "execution_count": null,
      "outputs": []
    },
    {
      "cell_type": "code",
      "source": [
        "X_train, X_test, y_train, y_test = train_test_split(X, y, stratify = heart_failure.Event, random_state=0)"
      ],
      "metadata": {
        "id": "fRMn7RV8pFCe"
      },
      "execution_count": null,
      "outputs": []
    },
    {
      "cell_type": "code",
      "source": [
        "names = []\n",
        "scores = []\n",
        "\n",
        "for name, model in models:\n",
        "    model.fit(X_train, y_train)\n",
        "    y_pred = model.predict(X_test)\n",
        "    scores.append(accuracy_score(y_test, y_pred))\n",
        "    names.append(name)\n",
        "\n",
        "tr_split = pd.DataFrame({'Name': names, 'Score': scores})\n",
        "print(tr_split)"
      ],
      "metadata": {
        "colab": {
          "base_uri": "https://localhost:8080/"
        },
        "id": "eEulqkh2pjPw",
        "outputId": "4f052a14-8730-44a0-bc6a-205331caa8cf"
      },
      "execution_count": null,
      "outputs": [
        {
          "output_type": "stream",
          "name": "stdout",
          "text": [
            "  Name     Score\n",
            "0  KNN  0.640000\n",
            "1  SVC  0.680000\n",
            "2   LR  0.786667\n",
            "3   DT  1.000000\n",
            "4  GNB  0.800000\n",
            "5   RF  1.000000\n",
            "6   GB  1.000000\n"
          ]
        }
      ]
    },
    {
      "cell_type": "code",
      "source": [
        "axis = sns.barplot(x = 'Name', y = 'Score', data = tr_split)\n",
        "axis.set(xlabel='Classifier', ylabel='Accuracy')\n",
        "\n",
        "for p in axis.patches:\n",
        "    height = p.get_height()\n",
        "    axis.text(p.get_x() + p.get_width()/2, height + 0.005, '{:1.4f}'.format(height), ha=\"center\") \n",
        "    \n",
        "plt.show()"
      ],
      "metadata": {
        "colab": {
          "base_uri": "https://localhost:8080/",
          "height": 279
        },
        "id": "HAZdSud8vM9w",
        "outputId": "83596479-a3a1-4e2e-e410-956a8e13ee4d"
      },
      "execution_count": null,
      "outputs": [
        {
          "output_type": "display_data",
          "data": {
            "image/png": "[encoded data removed]",
            "text/plain": [
              "<Figure size 432x288 with 1 Axes>"
            ]
          },
          "metadata": {
            "needs_background": "light"
          }
        }
      ]
    },
    {
      "cell_type": "code",
      "source": [
        "strat_k_fold = StratifiedKFold(n_splits=10, random_state=None)\n",
        "\n",
        "names = []\n",
        "scores = []\n",
        "\n",
        "for name, model in models:\n",
        "    \n",
        "    score = cross_val_score(model, X, y, cv=strat_k_fold, scoring='accuracy').mean()\n",
        "    names.append(name)\n",
        "    scores.append(score)\n",
        "\n",
        "kf_cross_val = pd.DataFrame({'Name': names, 'Score': scores})\n",
        "print(kf_cross_val)"
      ],
      "metadata": {
        "colab": {
          "base_uri": "https://localhost:8080/"
        },
        "id": "V6-u3mkcpuiH",
        "outputId": "ad1b275a-73fb-48b8-b4b1-f7d17e9c41e7"
      },
      "execution_count": null,
      "outputs": [
        {
          "output_type": "stream",
          "name": "stdout",
          "text": [
            "  Name     Score\n",
            "0  KNN  0.642069\n",
            "1  SVC  0.678966\n",
            "2   LR  0.725632\n",
            "3   DT  1.000000\n",
            "4  GNB  0.739195\n",
            "5   RF  1.000000\n",
            "6   GB  1.000000\n"
          ]
        }
      ]
    },
    {
      "cell_type": "code",
      "source": [
        "axis = sns.barplot(x = 'Name', y = 'Score', data = kf_cross_val)\n",
        "axis.set(xlabel='Classifier', ylabel='Accuracy')\n",
        "\n",
        "for p in axis.patches:\n",
        "    height = p.get_height()\n",
        "    axis.text(p.get_x() + p.get_width()/2, height + 0.005, '{:1.4f}'.format(height), ha=\"center\") \n",
        "    \n",
        "plt.show()\n",
        "\n"
      ],
      "metadata": {
        "colab": {
          "base_uri": "https://localhost:8080/",
          "height": 279
        },
        "id": "XnN3U2nnp4BF",
        "outputId": "5cd51e57-2689-4835-8e83-72fcc5a49516"
      },
      "execution_count": null,
      "outputs": [
        {
          "output_type": "display_data",
          "data": {
            "image/png": "[encoded data removed]",
            "text/plain": [
              "<Figure size 432x288 with 1 Axes>"
            ]
          },
          "metadata": {
            "needs_background": "light"
          }
        }
      ]
    },
    {
      "cell_type": "code",
      "source": [
        "feature_names = ['ejection_fraction', 'serum_creatinine']\n",
        "X_new = heart_failure[feature_names]\n",
        "y = heart_failure.Event"
      ],
      "metadata": {
        "id": "i_syfwzXtzIc",
        "outputId": "fc3da96d-3ba3-4580-9c92-813478905d6e",
        "colab": {
          "base_uri": "https://localhost:8080/",
          "height": 414
        }
      },
      "execution_count": null,
      "outputs": [
        {
          "output_type": "error",
          "ename": "KeyError",
          "evalue": "ignored",
          "traceback": [
            "\u001b[0;31m---------------------------------------------------------------------------\u001b[0m",
            "\u001b[0;31mKeyError\u001b[0m                                  Traceback (most recent call last)",
            "\u001b[0;32m<ipython-input-62-c201068c1496>\u001b[0m in \u001b[0;36m<module>\u001b[0;34m()\u001b[0m\n\u001b[1;32m      1\u001b[0m \u001b[0mfeature_names\u001b[0m \u001b[0;34m=\u001b[0m \u001b[0;34m[\u001b[0m\u001b[0;34m'ejection_fraction'\u001b[0m\u001b[0;34m,\u001b[0m \u001b[0;34m'serum_creatinine'\u001b[0m\u001b[0;34m]\u001b[0m\u001b[0;34m\u001b[0m\u001b[0;34m\u001b[0m\u001b[0m\n\u001b[0;32m----> 2\u001b[0;31m \u001b[0mX_new\u001b[0m \u001b[0;34m=\u001b[0m \u001b[0mheart_failure\u001b[0m\u001b[0;34m[\u001b[0m\u001b[0mfeature_names\u001b[0m\u001b[0;34m]\u001b[0m\u001b[0;34m\u001b[0m\u001b[0;34m\u001b[0m\u001b[0m\n\u001b[0m\u001b[1;32m      3\u001b[0m \u001b[0my\u001b[0m \u001b[0;34m=\u001b[0m \u001b[0mheart_failure\u001b[0m\u001b[0;34m.\u001b[0m\u001b[0mEvent\u001b[0m\u001b[0;34m\u001b[0m\u001b[0;34m\u001b[0m\u001b[0m\n",
            "\u001b[0;32m/usr/local/lib/python3.7/dist-packages/pandas/core/frame.py\u001b[0m in \u001b[0;36m__getitem__\u001b[0;34m(self, key)\u001b[0m\n\u001b[1;32m   2910\u001b[0m             \u001b[0;32mif\u001b[0m \u001b[0mis_iterator\u001b[0m\u001b[0;34m(\u001b[0m\u001b[0mkey\u001b[0m\u001b[0;34m)\u001b[0m\u001b[0;34m:\u001b[0m\u001b[0;34m\u001b[0m\u001b[0;34m\u001b[0m\u001b[0m\n\u001b[1;32m   2911\u001b[0m                 \u001b[0mkey\u001b[0m \u001b[0;34m=\u001b[0m \u001b[0mlist\u001b[0m\u001b[0;34m(\u001b[0m\u001b[0mkey\u001b[0m\u001b[0;34m)\u001b[0m\u001b[0;34m\u001b[0m\u001b[0;34m\u001b[0m\u001b[0m\n\u001b[0;32m-> 2912\u001b[0;31m             \u001b[0mindexer\u001b[0m \u001b[0;34m=\u001b[0m \u001b[0mself\u001b[0m\u001b[0;34m.\u001b[0m\u001b[0mloc\u001b[0m\u001b[0;34m.\u001b[0m\u001b[0m_get_listlike_indexer\u001b[0m\u001b[0;34m(\u001b[0m\u001b[0mkey\u001b[0m\u001b[0;34m,\u001b[0m \u001b[0maxis\u001b[0m\u001b[0;34m=\u001b[0m\u001b[0;36m1\u001b[0m\u001b[0;34m,\u001b[0m \u001b[0mraise_missing\u001b[0m\u001b[0;34m=\u001b[0m\u001b[0;32mTrue\u001b[0m\u001b[0;34m)\u001b[0m\u001b[0;34m[\u001b[0m\u001b[0;36m1\u001b[0m\u001b[0;34m]\u001b[0m\u001b[0;34m\u001b[0m\u001b[0;34m\u001b[0m\u001b[0m\n\u001b[0m\u001b[1;32m   2913\u001b[0m \u001b[0;34m\u001b[0m\u001b[0m\n\u001b[1;32m   2914\u001b[0m         \u001b[0;31m# take() does not accept boolean indexers\u001b[0m\u001b[0;34m\u001b[0m\u001b[0;34m\u001b[0m\u001b[0;34m\u001b[0m\u001b[0m\n",
            "\u001b[0;32m/usr/local/lib/python3.7/dist-packages/pandas/core/indexing.py\u001b[0m in \u001b[0;36m_get_listlike_indexer\u001b[0;34m(self, key, axis, raise_missing)\u001b[0m\n\u001b[1;32m   1252\u001b[0m             \u001b[0mkeyarr\u001b[0m\u001b[0;34m,\u001b[0m \u001b[0mindexer\u001b[0m\u001b[0;34m,\u001b[0m \u001b[0mnew_indexer\u001b[0m \u001b[0;34m=\u001b[0m \u001b[0max\u001b[0m\u001b[0;34m.\u001b[0m\u001b[0m_reindex_non_unique\u001b[0m\u001b[0;34m(\u001b[0m\u001b[0mkeyarr\u001b[0m\u001b[0;34m)\u001b[0m\u001b[0;34m\u001b[0m\u001b[0;34m\u001b[0m\u001b[0m\n\u001b[1;32m   1253\u001b[0m \u001b[0;34m\u001b[0m\u001b[0m\n\u001b[0;32m-> 1254\u001b[0;31m         \u001b[0mself\u001b[0m\u001b[0;34m.\u001b[0m\u001b[0m_validate_read_indexer\u001b[0m\u001b[0;34m(\u001b[0m\u001b[0mkeyarr\u001b[0m\u001b[0;34m,\u001b[0m \u001b[0mindexer\u001b[0m\u001b[0;34m,\u001b[0m \u001b[0maxis\u001b[0m\u001b[0;34m,\u001b[0m \u001b[0mraise_missing\u001b[0m\u001b[0;34m=\u001b[0m\u001b[0mraise_missing\u001b[0m\u001b[0;34m)\u001b[0m\u001b[0;34m\u001b[0m\u001b[0;34m\u001b[0m\u001b[0m\n\u001b[0m\u001b[1;32m   1255\u001b[0m         \u001b[0;32mreturn\u001b[0m \u001b[0mkeyarr\u001b[0m\u001b[0;34m,\u001b[0m \u001b[0mindexer\u001b[0m\u001b[0;34m\u001b[0m\u001b[0;34m\u001b[0m\u001b[0m\n\u001b[1;32m   1256\u001b[0m \u001b[0;34m\u001b[0m\u001b[0m\n",
            "\u001b[0;32m/usr/local/lib/python3.7/dist-packages/pandas/core/indexing.py\u001b[0m in \u001b[0;36m_validate_read_indexer\u001b[0;34m(self, key, indexer, axis, raise_missing)\u001b[0m\n\u001b[1;32m   1296\u001b[0m             \u001b[0;32mif\u001b[0m \u001b[0mmissing\u001b[0m \u001b[0;34m==\u001b[0m \u001b[0mlen\u001b[0m\u001b[0;34m(\u001b[0m\u001b[0mindexer\u001b[0m\u001b[0;34m)\u001b[0m\u001b[0;34m:\u001b[0m\u001b[0;34m\u001b[0m\u001b[0;34m\u001b[0m\u001b[0m\n\u001b[1;32m   1297\u001b[0m                 \u001b[0maxis_name\u001b[0m \u001b[0;34m=\u001b[0m \u001b[0mself\u001b[0m\u001b[0;34m.\u001b[0m\u001b[0mobj\u001b[0m\u001b[0;34m.\u001b[0m\u001b[0m_get_axis_name\u001b[0m\u001b[0;34m(\u001b[0m\u001b[0maxis\u001b[0m\u001b[0;34m)\u001b[0m\u001b[0;34m\u001b[0m\u001b[0;34m\u001b[0m\u001b[0m\n\u001b[0;32m-> 1298\u001b[0;31m                 \u001b[0;32mraise\u001b[0m \u001b[0mKeyError\u001b[0m\u001b[0;34m(\u001b[0m\u001b[0;34mf\"None of [{key}] are in the [{axis_name}]\"\u001b[0m\u001b[0;34m)\u001b[0m\u001b[0;34m\u001b[0m\u001b[0;34m\u001b[0m\u001b[0m\n\u001b[0m\u001b[1;32m   1299\u001b[0m \u001b[0;34m\u001b[0m\u001b[0m\n\u001b[1;32m   1300\u001b[0m             \u001b[0;31m# We (temporarily) allow for some missing keys with .loc, except in\u001b[0m\u001b[0;34m\u001b[0m\u001b[0;34m\u001b[0m\u001b[0;34m\u001b[0m\u001b[0m\n",
            "\u001b[0;31mKeyError\u001b[0m: \"None of [Index(['ejection_fraction', 'serum_creatinine'], dtype='object')] are in the [columns]\""
          ]
        }
      ]
    },
    {
      "cell_type": "code",
      "source": [
        "X_train, X_test, y_train, y_test = train_test_split(X, y, stratify = heart_failure.Event, random_state=0)"
      ],
      "metadata": {
        "id": "QsZ0Rnayub_o"
      },
      "execution_count": null,
      "outputs": []
    },
    {
      "cell_type": "code",
      "source": [
        "names = []\n",
        "scores = []\n",
        "\n",
        "for name, model in models:\n",
        "    model.fit(X_train, y_train)\n",
        "    y_pred = model.predict(X_test)\n",
        "    scores.append(accuracy_score(y_test, y_pred))\n",
        "    names.append(name)\n",
        "\n",
        "tr_split = pd.DataFrame({'Name': names, 'Score': scores})\n",
        "print(tr_split)"
      ],
      "metadata": {
        "colab": {
          "base_uri": "https://localhost:8080/"
        },
        "id": "y7aTSN6Vuh13",
        "outputId": "cd5c04eb-dd25-4eb4-9058-564c865f6a1f"
      },
      "execution_count": null,
      "outputs": [
        {
          "output_type": "stream",
          "name": "stdout",
          "text": [
            "  Name     Score\n",
            "0  KNN  0.640000\n",
            "1  SVC  0.680000\n",
            "2   LR  0.786667\n",
            "3   DT  1.000000\n",
            "4  GNB  0.800000\n",
            "5   RF  1.000000\n",
            "6   GB  1.000000\n"
          ]
        }
      ]
    },
    {
      "cell_type": "code",
      "source": [
        "axis = sns.barplot(x = 'Name', y = 'Score', data = tr_split)\n",
        "axis.set(xlabel='Classifier', ylabel='Accuracy')\n",
        "\n",
        "for p in axis.patches:\n",
        "    height = p.get_height()\n",
        "    axis.text(p.get_x() + p.get_width()/2, height + 0.005, '{:1.4f}'.format(height), ha=\"center\") \n",
        "    \n",
        "plt.show()"
      ],
      "metadata": {
        "colab": {
          "base_uri": "https://localhost:8080/",
          "height": 279
        },
        "id": "2EDUCbXCuwCm",
        "outputId": "8620bf8e-8153-444c-9316-a4fa483972da"
      },
      "execution_count": null,
      "outputs": [
        {
          "output_type": "display_data",
          "data": {
            "image/png": "[encoded data removed]",
            "text/plain": [
              "<Figure size 432x288 with 1 Axes>"
            ]
          },
          "metadata": {
            "needs_background": "light"
          }
        }
      ]
    },
    {
      "cell_type": "code",
      "source": [
        ""
      ],
      "metadata": {
        "id": "VmD_U1a0uz39"
      },
      "execution_count": null,
      "outputs": []
    }
  ]
}